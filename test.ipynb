{
 "cells": [
  {
   "cell_type": "code",
   "execution_count": 6,
   "metadata": {},
   "outputs": [
    {
     "ename": "ModuleNotFoundError",
     "evalue": "No module named 'numpy'",
     "output_type": "error",
     "traceback": [
      "\u001b[0;31m---------------------------------------------------------------------------\u001b[0m",
      "\u001b[0;31mModuleNotFoundError\u001b[0m                       Traceback (most recent call last)",
      "Cell \u001b[0;32mIn [6], line 3\u001b[0m\n\u001b[1;32m      1\u001b[0m \u001b[38;5;28;01mimport\u001b[39;00m \u001b[38;5;21;01mjson\u001b[39;00m\n\u001b[1;32m      2\u001b[0m \u001b[38;5;28;01mfrom\u001b[39;00m \u001b[38;5;21;01mmath\u001b[39;00m \u001b[38;5;28;01mimport\u001b[39;00m pi, tan\n\u001b[0;32m----> 3\u001b[0m \u001b[38;5;28;01mimport\u001b[39;00m \u001b[38;5;21;01mnumpy\u001b[39;00m \u001b[38;5;28;01mas\u001b[39;00m \u001b[38;5;21;01mnp\u001b[39;00m\n\u001b[1;32m      4\u001b[0m \u001b[38;5;28;01mimport\u001b[39;00m \u001b[38;5;21;01mfolium\u001b[39;00m\n\u001b[1;32m      6\u001b[0m \u001b[38;5;66;03m#Flight height in m\u001b[39;00m\n",
      "\u001b[0;31mModuleNotFoundError\u001b[0m: No module named 'numpy'"
     ]
    }
   ],
   "source": [
    "import json\n",
    "from math import pi, tan\n",
    "import numpy as np\n",
    "import folium\n",
    "\n",
    "#Flight height in m\n",
    "flight_height = 10 #ATH þessi verður input\n",
    "\n",
    "#Sensor width in inches\n",
    "sensor_width = 1/2.4\n",
    "\n",
    "#Converting sensor with to mm\n",
    "sensor_width *= 25.4\n",
    "\n",
    "#Focal length in mm\n",
    "focal_length = 24 # ATH þurfum að finna þessa tölu betur\n",
    "\n",
    "#Angle of view in degrees\n",
    "angle_of_view = 2*np.arctan(sensor_width / (2*focal_length)) * (180/pi)\n",
    "\n",
    "#Field of view in m\n",
    "field_of_view = abs(2*(tan(angle_of_view/2)*flight_height))\n",
    "\n",
    "print(\"field of view: \", field_of_view)\n",
    "\n",
    "f = open('data.json')\n",
    "data = json.load(f)\n",
    "x = []\n",
    "y = []\n",
    "\n",
    "\n",
    "for d in data:\n",
    "    x.append(d['x'])\n",
    "    y.append(d['y'])\n",
    "\n",
    "\n",
    "max_x = max(x)\n",
    "min_x = min(x)\n",
    "max_y = max(y)\n",
    "min_y = min(y)\n",
    "\n",
    "x_cur = min_x\n",
    "y_cur = min_y\n",
    "\n",
    "grid_coordinates = []\n",
    "\n",
    "while(x_cur <= max_x):\n",
    "    while(y_cur <= max_y):\n",
    "        grid_coordinates.append({\"x\":x_cur,\"y\":y_cur})\n",
    "        y_cur += 0.8*(field_of_view/111139)\n",
    "    x_cur += 0.8*(field_of_view/111139)\n",
    "\n",
    "\n",
    "\n",
    "map = folium.Map(location=[55.647, 12.572], zoom_start=12)\n",
    "for point in grid_coordinates:\n",
    "    folium.Marker([point[\"x\"], point[\"y\"]]).add_to(map)\n",
    "map\n",
    "\n",
    "\n",
    "\n",
    "\n"
   ]
  }
 ],
 "metadata": {
  "kernelspec": {
   "display_name": "Python 3.9.5 64-bit",
   "language": "python",
   "name": "python3"
  },
  "language_info": {
   "codemirror_mode": {
    "name": "ipython",
    "version": 3
   },
   "file_extension": ".py",
   "mimetype": "text/x-python",
   "name": "python",
   "nbconvert_exporter": "python",
   "pygments_lexer": "ipython3",
   "version": "3.9.5"
  },
  "orig_nbformat": 4,
  "vscode": {
   "interpreter": {
    "hash": "f9f85f796d01129d0dd105a088854619f454435301f6ffec2fea96ecbd9be4ac"
   }
  }
 },
 "nbformat": 4,
 "nbformat_minor": 2
}
