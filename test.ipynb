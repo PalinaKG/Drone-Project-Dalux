{
 "cells": [
  {
   "cell_type": "code",
   "execution_count": 36,
   "metadata": {},
   "outputs": [
    {
     "name": "stdout",
     "output_type": "stream",
     "text": [
      "field of view:  0.0006688124049416707\n"
     ]
    }
   ],
   "source": [
    "import json\n",
    "import os\n",
    "import time\n",
    "from selenium import webdriver\n",
    "from math import pi, tan\n",
    "import numpy as np\n",
    "import folium\n",
    "from shapely.geometry import Point\n",
    "from shapely.geometry.polygon import Polygon\n",
    "from shortest_path_calc import *\n",
    "import matplotlib as mpl\n",
    "import branca.colormap as cm\n",
    "\n",
    "#Flight height in m\n",
    "flight_height = 60.0 #ATH þessi verður input\n",
    "\n",
    "#Sensor width in inches\n",
    "sensor_width = 1/2.4\n",
    "\n",
    "#Converting sensor with to mm\n",
    "sensor_width *= 25.4\n",
    "\n",
    "#Focal length in mm\n",
    "focal_length = 24 # ATH þurfum að finna þessa tölu betur\n",
    "\n",
    "#Angle of view in degrees\n",
    "angle_of_view = 2*np.arctan(sensor_width / (2*focal_length)) * (180/pi)\n",
    "\n",
    "#Field of view in m\n",
    "field_of_view = abs(2*(tan(angle_of_view/2)*flight_height))\n",
    "\n",
    "field_of_view=calc_field_of_view_GPS(flight_height=flight_height)\n",
    "\n",
    "print(\"field of view: \", field_of_view)\n",
    "\n",
    "f = open('data.json')\n",
    "#f = open('test_data_lyngby.json')\n",
    "data = json.load(f)\n",
    "x = []\n",
    "y = []\n",
    "\n",
    "\n",
    "for d in data:\n",
    "    x.append(d['x'])\n",
    "    y.append(d['y'])\n",
    "\n",
    "\n",
    "max_x = max(x)\n",
    "min_x = min(x)\n",
    "max_y = max(y)\n",
    "min_y = min(y)\n",
    "\n",
    "x_cur = min_x\n",
    "y_cur = min_y\n",
    "\n",
    "grid_coordinates = []\n",
    "\n",
    "\n",
    "\n",
    "\n",
    "new_tuple = [(x[idx],y[idx]) for idx in range(len(x))]\n",
    "polygon = Polygon(new_tuple)\n",
    "first = True\n",
    "while(x_cur <= max_x):\n",
    "    y_cur = min_y\n",
    "    while(y_cur <= max_y):\n",
    "        point2 = Point(x_cur ,y_cur)\n",
    "        if polygon.contains(point2):\n",
    "            grid_coordinates.append({\"x\":x_cur,\"y\":y_cur})\n",
    "        y_cur += field_of_view\n",
    "    x_cur += field_of_view\n",
    "\n",
    "colormap = cm.LinearColormap(colors=['red', 'blue','green'], index=[0, len(grid_coordinates)], vmin=0, vmax=len(grid_coordinates))\n",
    "#map = folium.Map(location=[55.78335044630297,12.494188681035387], zoom_start=100)\n",
    "map = folium.Map(location=[55.64950876519028,12.570372924804731], zoom_start=15)\n",
    "\n",
    "\n",
    "for i, point in enumerate(grid_coordinates):\n",
    "    \n",
    "    #if first:\n",
    "        #first = False\n",
    "        #folium.CircleMarker([point[\"x\"], point[\"y\"]], radius=1,color='blue').add_to(map)\n",
    "    #else:\n",
    "    folium.CircleMarker([point[\"x\"], point[\"y\"]], radius=1,color=colormap(i)).add_to(map)\n",
    "    map.save(\"./html_files/Drone_map_\"+str(i)+\".html\")\n",
    "\n",
    "path = \"/Users/palinakroyer/Desktop/Skoli/3.önn/Drone/Drone-Project-Dalux\"\n",
    "delay=5\n",
    "os.chdir(path)\n",
    "\n",
    "for i, point in enumerate(grid_coordinates):\n",
    "    fn=\"./html_files/Drone_map_\"+str(i)+\".html\"\n",
    "    tmpurl = 'file://{path}/{mapfile}'.format(path=os.getcwd(),mapfile=fn)\n",
    "    \n",
    "    browser = webdriver.Chrome()\n",
    "    browser.get(tmpurl)\n",
    "    \n",
    "    time.sleep(delay)\n",
    "    browser.save_screenshot(\"./html_files/Drone_map_\"+str(i)+\".png\")\n",
    "    browser.quit()\n",
    "    \n",
    "    os.remove(\"./html_files/Drone_map_\"+str(i)+\".html\")\n",
    "\n",
    "\n"
   ]
  },
  {
   "cell_type": "code",
   "execution_count": 60,
   "metadata": {},
   "outputs": [
    {
     "ename": "AttributeError",
     "evalue": "module 'networkx.algorithms.approximation' has no attribute 'traveling_salesman_problem'",
     "output_type": "error",
     "traceback": [
      "\u001b[0;31m---------------------------------------------------------------------------\u001b[0m",
      "\u001b[0;31mAttributeError\u001b[0m                            Traceback (most recent call last)",
      "\u001b[0;32m<ipython-input-60-407e8c047b60>\u001b[0m in \u001b[0;36m<module>\u001b[0;34m\u001b[0m\n\u001b[1;32m      1\u001b[0m \u001b[0;32mimport\u001b[0m \u001b[0mnetworkx\u001b[0m\u001b[0;34m.\u001b[0m\u001b[0malgorithms\u001b[0m\u001b[0;34m.\u001b[0m\u001b[0mapproximation\u001b[0m \u001b[0;32mas\u001b[0m \u001b[0mnx_app\u001b[0m\u001b[0;34m\u001b[0m\u001b[0;34m\u001b[0m\u001b[0m\n\u001b[1;32m      2\u001b[0m \u001b[0;34m\u001b[0m\u001b[0m\n\u001b[0;32m----> 3\u001b[0;31m \u001b[0mpath\u001b[0m \u001b[0;34m=\u001b[0m \u001b[0mnx_app\u001b[0m\u001b[0;34m.\u001b[0m\u001b[0mtraveling_salesman_problem\u001b[0m\u001b[0;34m(\u001b[0m\u001b[0mG\u001b[0m\u001b[0;34m,\u001b[0m \u001b[0mcycle\u001b[0m\u001b[0;34m=\u001b[0m\u001b[0;32mFalse\u001b[0m\u001b[0;34m)\u001b[0m\u001b[0;34m\u001b[0m\u001b[0;34m\u001b[0m\u001b[0m\n\u001b[0m\u001b[1;32m      4\u001b[0m \u001b[0;34m\u001b[0m\u001b[0m\n\u001b[1;32m      5\u001b[0m \u001b[0mpath\u001b[0m\u001b[0;34m\u001b[0m\u001b[0;34m\u001b[0m\u001b[0m\n",
      "\u001b[0;31mAttributeError\u001b[0m: module 'networkx.algorithms.approximation' has no attribute 'traveling_salesman_problem'"
     ]
    }
   ],
   "source": [
    "import networkx.algorithms.approximation as nx_app\n",
    "\n",
    "path = nx_app.traveling_salesman_problem(G, cycle=False)\n",
    "\n",
    "path"
   ]
  },
  {
   "cell_type": "code",
   "execution_count": 50,
   "metadata": {},
   "outputs": [
    {
     "data": {
      "text/plain": [
       "PosixPath('.')"
      ]
     },
     "execution_count": 50,
     "metadata": {},
     "output_type": "execute_result"
    }
   ],
   "source": [
    "from pathlib import Path\n",
    "import imageio\n",
    "\n",
    "Path()"
   ]
  },
  {
   "cell_type": "code",
   "execution_count": 57,
   "metadata": {},
   "outputs": [
    {
     "name": "stdout",
     "output_type": "stream",
     "text": [
      "/Users/palinakroyer/Desktop/Skoli/3.önn/Drone/Drone-Project-Dalux/html_files\n",
      "Drone_map_5.png\n",
      "Drone_map_4.png\n",
      "Drone_map_6.png\n",
      "Drone_map_7.png\n",
      "Drone_map_3.png\n",
      "Drone_map_2.png\n",
      "Drone_map_0.png\n",
      "Drone_map_1.png\n",
      "Drone_map_30.png\n",
      "Drone_map_24.png\n",
      "Drone_map_18.png\n",
      "Drone_map_19.png\n",
      "Drone_map_25.png\n",
      "Drone_map_31.png\n",
      "Drone_map_27.png\n",
      "Drone_map_33.png\n",
      "Drone_map_32.png\n",
      "Drone_map_26.png\n",
      "Drone_map_22.png\n",
      "Drone_map_36.png\n",
      "Drone_map_37.png\n",
      "Drone_map_23.png\n",
      "Drone_map_35.png\n",
      "Drone_map_21.png\n",
      "Drone_map_20.png\n",
      "Drone_map_34.png\n",
      "Drone_map_11.png\n",
      "Drone_map_10.png\n",
      "Drone_map_12.png\n",
      "Drone_map_13.png\n",
      "Drone_map_17.png\n",
      "Drone_map_16.png\n",
      "Drone_map_28.png\n",
      "Drone_map_14.png\n",
      "Drone_map_15.png\n",
      "Drone_map_29.png\n",
      "Drone_map_9.png\n",
      "Drone_map_8.png\n"
     ]
    }
   ],
   "source": [
    "image_path = os.path.join(path, \"html_files\")\n",
    "\n",
    "print(image_path)\n",
    "images = []\n",
    "\n",
    "\n",
    "image_list = []\n",
    "\n",
    "for file_name in os.listdir(image_path):\n",
    "    print(file_name)\n",
    "    image_list.append(imageio.imread(os.path.join(\"html_files\",file_name)))\n",
    "    #os.remove(file_name)\n",
    "    \n",
    "imageio.mimwrite('GifMap.gif', image_list, fps=2)"
   ]
  },
  {
   "cell_type": "code",
   "execution_count": 61,
   "metadata": {},
   "outputs": [
    {
     "name": "stdout",
     "output_type": "stream",
     "text": [
      "7.61198328936029e-09\n"
     ]
    }
   ],
   "source": [
    "grid_coordinates\n",
    "\n",
    "dist = np.sqrt(2*(0.8*(field_of_view/111139)**2))\n",
    "print(dist)"
   ]
  },
  {
   "cell_type": "code",
   "execution_count": 62,
   "metadata": {},
   "outputs": [],
   "source": [
    "# Python program for Dijkstra's single\n",
    "# source shortest path algorithm. The program is\n",
    "# for adjacency matrix representation of the graph\n",
    "class Graph():\n",
    " \n",
    "    def __init__(self, vertices):\n",
    "        self.V = vertices\n",
    "        self.graph = [[0 for column in range(vertices)]\n",
    "                      for row in range(vertices)]\n",
    "        print('GRAPH init: ',self.graph)\n",
    "        print('V init: ',self.V)\n",
    " \n",
    "    def printSolution(self, dist):\n",
    "        print('GRAPH print: ',self.graph)\n",
    "        print(\"Vertex \\t Distance from Source\")\n",
    "        for node in range(self.V):\n",
    "            print(node, \"\\t\\t\", dist[node])\n",
    " \n",
    "    # A utility function to find the vertex with\n",
    "    # minimum distance value, from the set of vertices\n",
    "    # not yet included in shortest path tree\n",
    "    def minDistance(self, dist, sptSet):\n",
    " \n",
    "        # Initialize minimum distance for next node\n",
    "        min = 1e7\n",
    " \n",
    "        # Search not nearest vertex not in the\n",
    "        # shortest path tree\n",
    "        for v in range(self.V):\n",
    "            if dist[v] < min and sptSet[v] == False:\n",
    "                min = dist[v]\n",
    "                min_index = v\n",
    " \n",
    "        return min_index\n",
    " \n",
    "    # Function that implements Dijkstra's single source\n",
    "    # shortest path algorithm for a graph represented\n",
    "    # using adjacency matrix representation\n",
    "    def dijkstra(self, src):\n",
    " \n",
    "        dist = [1e7] * self.V\n",
    "        dist[src] = 0\n",
    "        sptSet = [False] * self.V\n",
    " \n",
    "        for cout in range(self.V):\n",
    " \n",
    "            # Pick the minimum distance vertex from\n",
    "            # the set of vertices not yet processed.\n",
    "            # u is always equal to src in first iteration\n",
    "            u = self.minDistance(dist, sptSet)\n",
    " \n",
    "            # Put the minimum distance vertex in the\n",
    "            # shortest path tree\n",
    "            sptSet[u] = True\n",
    " \n",
    "            # Update dist value of the adjacent vertices\n",
    "            # of the picked vertex only if the current\n",
    "            # distance is greater than new distance and\n",
    "            # the vertex in not in the shortest path tree\n",
    "            for v in range(self.V):\n",
    "                if (self.graph[u][v] > 0 and\n",
    "                   sptSet[v] == False and\n",
    "                   dist[v] > dist[u] + self.graph[u][v]):\n",
    "                    dist[v] = dist[u] + self.graph[u][v]\n",
    " \n",
    "        self.printSolution(dist)\n",
    " \n"
   ]
  },
  {
   "cell_type": "code",
   "execution_count": 63,
   "metadata": {},
   "outputs": [],
   "source": [
    "import networkx as nx\n",
    "G = nx.Graph()\n",
    "\n",
    "for idx, coordinate in enumerate(grid_coordinates):\n",
    "    G.add_node(idx, is_full=0, coordinate=coordinate)\n",
    "    \n",
    "max_dist = np.sqrt(2*(0.8*(field_of_view/111139)**2))\n",
    "G2 = G.copy()\n",
    "for node in G:\n",
    "    G2.remove_node(node)\n",
    "    for node2 in G2:\n",
    "        x_dist = abs(G.nodes[node]['coordinate']['x'] - G2.nodes[node2]['coordinate']['x'])\n",
    "        y_dist = abs(G.nodes[node]['coordinate']['y'] - G2.nodes[node2]['coordinate']['y'])\n",
    "        if (x_dist <= max_dist and y_dist <= max_dist):\n",
    "            G.add_edge(node, node2, weight = np.sqrt(x_dist**2 + y_dist**2))\n",
    "            #G.add_edge(node, node2)"
   ]
  },
  {
   "cell_type": "code",
   "execution_count": 64,
   "metadata": {},
   "outputs": [
    {
     "ename": "AttributeError",
     "evalue": "module 'networkx.algorithms.approximation' has no attribute 'traveling_salesman_problem'",
     "output_type": "error",
     "traceback": [
      "\u001b[0;31m---------------------------------------------------------------------------\u001b[0m",
      "\u001b[0;31mAttributeError\u001b[0m                            Traceback (most recent call last)",
      "\u001b[0;32m<ipython-input-64-10eeca7b76cd>\u001b[0m in \u001b[0;36m<module>\u001b[0;34m\u001b[0m\n\u001b[1;32m      1\u001b[0m \u001b[0;32mimport\u001b[0m \u001b[0mnetworkx\u001b[0m\u001b[0;34m.\u001b[0m\u001b[0malgorithms\u001b[0m\u001b[0;34m.\u001b[0m\u001b[0mapproximation\u001b[0m \u001b[0;32mas\u001b[0m \u001b[0mnx_app\u001b[0m\u001b[0;34m\u001b[0m\u001b[0;34m\u001b[0m\u001b[0m\n\u001b[1;32m      2\u001b[0m \u001b[0;34m\u001b[0m\u001b[0m\n\u001b[0;32m----> 3\u001b[0;31m \u001b[0mpath\u001b[0m \u001b[0;34m=\u001b[0m \u001b[0mnx_app\u001b[0m\u001b[0;34m.\u001b[0m\u001b[0mtraveling_salesman_problem\u001b[0m\u001b[0;34m(\u001b[0m\u001b[0mG\u001b[0m\u001b[0;34m,\u001b[0m \u001b[0mcycle\u001b[0m\u001b[0;34m=\u001b[0m\u001b[0;32mFalse\u001b[0m\u001b[0;34m)\u001b[0m\u001b[0;34m\u001b[0m\u001b[0;34m\u001b[0m\u001b[0m\n\u001b[0m",
      "\u001b[0;31mAttributeError\u001b[0m: module 'networkx.algorithms.approximation' has no attribute 'traveling_salesman_problem'"
     ]
    }
   ],
   "source": [
    "import networkx.algorithms.approximation as nx_app\n",
    "\n",
    "path = nx_app.traveling_salesman_problem(G, cycle=False)"
   ]
  },
  {
   "cell_type": "code",
   "execution_count": null,
   "metadata": {},
   "outputs": [],
   "source": [
    "list_of_coordinates = []\n",
    "for node in path:\n",
    "    list_of_coordinates.append(G.nodes[node]['coordinate'])"
   ]
  },
  {
   "cell_type": "code",
   "execution_count": null,
   "metadata": {},
   "outputs": [],
   "source": [
    "list_of_coordinates"
   ]
  },
  {
   "cell_type": "code",
   "execution_count": null,
   "metadata": {},
   "outputs": [],
   "source": [
    "from folium.features import DivIcon\n",
    "\n",
    "map = folium.Map(location=[55.647, 12.572], zoom_start=15)\n",
    "for point in G.nodes:\n",
    "    folium.CircleMarker([G.nodes[point]['coordinate'][\"x\"], G.nodes[point]['coordinate'][\"y\"]], radius=1,color='red').add_to(map)\n",
    "    \n",
    "    folium.map.Marker([G.nodes[point]['coordinate'][\"x\"], G.nodes[point]['coordinate'][\"y\"]],\n",
    "                     icon=DivIcon(\n",
    "                          icon_size=(30,30),\n",
    "                          icon_anchor=(5,14),\n",
    "                          html=f'<div style=\"font-size: 10pt\">%s</div>' % str(point),\n",
    "                      )\n",
    "                     \n",
    "                     ).add_to(map)\n",
    "\n",
    "map"
   ]
  },
  {
   "cell_type": "code",
   "execution_count": null,
   "metadata": {},
   "outputs": [],
   "source": []
  },
  {
   "cell_type": "code",
   "execution_count": null,
   "metadata": {},
   "outputs": [],
   "source": []
  },
  {
   "cell_type": "code",
   "execution_count": null,
   "metadata": {},
   "outputs": [],
   "source": []
  }
 ],
 "metadata": {
  "kernelspec": {
   "display_name": "Python 3",
   "language": "python",
   "name": "python3"
  },
  "language_info": {
   "codemirror_mode": {
    "name": "ipython",
    "version": 3
   },
   "file_extension": ".py",
   "mimetype": "text/x-python",
   "name": "python",
   "nbconvert_exporter": "python",
   "pygments_lexer": "ipython3",
   "version": "3.8.8"
  },
  "vscode": {
   "interpreter": {
    "hash": "91d1bab3738a01ec6d5b5cecc421630225ac59e14a5687e5d3098eee57868648"
   }
  }
 },
 "nbformat": 4,
 "nbformat_minor": 2
}
