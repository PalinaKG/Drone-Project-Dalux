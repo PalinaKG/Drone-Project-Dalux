{
 "cells": [
  {
   "cell_type": "code",
   "execution_count": 2,
   "metadata": {},
   "outputs": [
    {
     "name": "stdout",
     "output_type": "stream",
     "text": [
      "field of view:  1.114687341569451e-05\n"
     ]
    },
    {
     "ename": "KeyboardInterrupt",
     "evalue": "",
     "output_type": "error",
     "traceback": [
      "\u001b[0;31m---------------------------------------------------------------------------\u001b[0m",
      "\u001b[0;31mKeyboardInterrupt\u001b[0m                         Traceback (most recent call last)",
      "\u001b[0;32m<ipython-input-2-b5d4f7767113>\u001b[0m in \u001b[0;36m<module>\u001b[0;34m\u001b[0m\n\u001b[1;32m     61\u001b[0m     \u001b[0;32mwhile\u001b[0m\u001b[0;34m(\u001b[0m\u001b[0my_cur\u001b[0m \u001b[0;34m<=\u001b[0m \u001b[0mmax_y\u001b[0m\u001b[0;34m)\u001b[0m\u001b[0;34m:\u001b[0m\u001b[0;34m\u001b[0m\u001b[0;34m\u001b[0m\u001b[0m\n\u001b[1;32m     62\u001b[0m         \u001b[0mpoint2\u001b[0m \u001b[0;34m=\u001b[0m \u001b[0mPoint\u001b[0m\u001b[0;34m(\u001b[0m\u001b[0mx_cur\u001b[0m \u001b[0;34m,\u001b[0m\u001b[0my_cur\u001b[0m\u001b[0;34m)\u001b[0m\u001b[0;34m\u001b[0m\u001b[0;34m\u001b[0m\u001b[0m\n\u001b[0;32m---> 63\u001b[0;31m         \u001b[0;32mif\u001b[0m \u001b[0mpolygon\u001b[0m\u001b[0;34m.\u001b[0m\u001b[0mcontains\u001b[0m\u001b[0;34m(\u001b[0m\u001b[0mpoint2\u001b[0m\u001b[0;34m)\u001b[0m\u001b[0;34m:\u001b[0m\u001b[0;34m\u001b[0m\u001b[0;34m\u001b[0m\u001b[0m\n\u001b[0m\u001b[1;32m     64\u001b[0m             \u001b[0mgrid_coordinates\u001b[0m\u001b[0;34m.\u001b[0m\u001b[0mappend\u001b[0m\u001b[0;34m(\u001b[0m\u001b[0;34m{\u001b[0m\u001b[0;34m\"x\"\u001b[0m\u001b[0;34m:\u001b[0m\u001b[0mx_cur\u001b[0m\u001b[0;34m,\u001b[0m\u001b[0;34m\"y\"\u001b[0m\u001b[0;34m:\u001b[0m\u001b[0my_cur\u001b[0m\u001b[0;34m}\u001b[0m\u001b[0;34m)\u001b[0m\u001b[0;34m\u001b[0m\u001b[0;34m\u001b[0m\u001b[0m\n\u001b[1;32m     65\u001b[0m         \u001b[0my_cur\u001b[0m \u001b[0;34m+=\u001b[0m \u001b[0;36m0.8\u001b[0m\u001b[0;34m*\u001b[0m\u001b[0;34m(\u001b[0m\u001b[0mfield_of_view\u001b[0m\u001b[0;34m/\u001b[0m\u001b[0;36m111139\u001b[0m\u001b[0;34m)\u001b[0m\u001b[0;34m\u001b[0m\u001b[0;34m\u001b[0m\u001b[0m\n",
      "\u001b[0;32m~/opt/anaconda3/lib/python3.8/site-packages/shapely/geometry/base.py\u001b[0m in \u001b[0;36mcontains\u001b[0;34m(self, other)\u001b[0m\n\u001b[1;32m    762\u001b[0m     \u001b[0;32mdef\u001b[0m \u001b[0mcontains\u001b[0m\u001b[0;34m(\u001b[0m\u001b[0mself\u001b[0m\u001b[0;34m,\u001b[0m \u001b[0mother\u001b[0m\u001b[0;34m)\u001b[0m\u001b[0;34m:\u001b[0m\u001b[0;34m\u001b[0m\u001b[0;34m\u001b[0m\u001b[0m\n\u001b[1;32m    763\u001b[0m         \u001b[0;34m\"\"\"Returns True if the geometry contains the other, else False\"\"\"\u001b[0m\u001b[0;34m\u001b[0m\u001b[0;34m\u001b[0m\u001b[0m\n\u001b[0;32m--> 764\u001b[0;31m         \u001b[0;32mreturn\u001b[0m \u001b[0mbool\u001b[0m\u001b[0;34m(\u001b[0m\u001b[0mself\u001b[0m\u001b[0;34m.\u001b[0m\u001b[0mimpl\u001b[0m\u001b[0;34m[\u001b[0m\u001b[0;34m'contains'\u001b[0m\u001b[0;34m]\u001b[0m\u001b[0;34m(\u001b[0m\u001b[0mself\u001b[0m\u001b[0;34m,\u001b[0m \u001b[0mother\u001b[0m\u001b[0;34m)\u001b[0m\u001b[0;34m)\u001b[0m\u001b[0;34m\u001b[0m\u001b[0;34m\u001b[0m\u001b[0m\n\u001b[0m\u001b[1;32m    765\u001b[0m \u001b[0;34m\u001b[0m\u001b[0m\n\u001b[1;32m    766\u001b[0m     \u001b[0;32mdef\u001b[0m \u001b[0mcrosses\u001b[0m\u001b[0;34m(\u001b[0m\u001b[0mself\u001b[0m\u001b[0;34m,\u001b[0m \u001b[0mother\u001b[0m\u001b[0;34m)\u001b[0m\u001b[0;34m:\u001b[0m\u001b[0;34m\u001b[0m\u001b[0;34m\u001b[0m\u001b[0m\n",
      "\u001b[0;32m~/opt/anaconda3/lib/python3.8/site-packages/shapely/predicates.py\u001b[0m in \u001b[0;36m__call__\u001b[0;34m(self, this, other, *args)\u001b[0m\n\u001b[1;32m     10\u001b[0m \u001b[0;34m\u001b[0m\u001b[0m\n\u001b[1;32m     11\u001b[0m     \u001b[0;32mdef\u001b[0m \u001b[0m__call__\u001b[0m\u001b[0;34m(\u001b[0m\u001b[0mself\u001b[0m\u001b[0;34m,\u001b[0m \u001b[0mthis\u001b[0m\u001b[0;34m,\u001b[0m \u001b[0mother\u001b[0m\u001b[0;34m,\u001b[0m \u001b[0;34m*\u001b[0m\u001b[0margs\u001b[0m\u001b[0;34m)\u001b[0m\u001b[0;34m:\u001b[0m\u001b[0;34m\u001b[0m\u001b[0;34m\u001b[0m\u001b[0m\n\u001b[0;32m---> 12\u001b[0;31m         \u001b[0mself\u001b[0m\u001b[0;34m.\u001b[0m\u001b[0m_validate\u001b[0m\u001b[0;34m(\u001b[0m\u001b[0mthis\u001b[0m\u001b[0;34m)\u001b[0m\u001b[0;34m\u001b[0m\u001b[0;34m\u001b[0m\u001b[0m\n\u001b[0m\u001b[1;32m     13\u001b[0m         \u001b[0mself\u001b[0m\u001b[0;34m.\u001b[0m\u001b[0m_validate\u001b[0m\u001b[0;34m(\u001b[0m\u001b[0mother\u001b[0m\u001b[0;34m,\u001b[0m \u001b[0mstop_prepared\u001b[0m\u001b[0;34m=\u001b[0m\u001b[0;32mTrue\u001b[0m\u001b[0;34m)\u001b[0m\u001b[0;34m\u001b[0m\u001b[0;34m\u001b[0m\u001b[0m\n\u001b[1;32m     14\u001b[0m         \u001b[0;32mtry\u001b[0m\u001b[0;34m:\u001b[0m\u001b[0;34m\u001b[0m\u001b[0;34m\u001b[0m\u001b[0m\n",
      "\u001b[0;32m~/opt/anaconda3/lib/python3.8/site-packages/shapely/topology.py\u001b[0m in \u001b[0;36m_validate\u001b[0;34m(self, ob, stop_prepared)\u001b[0m\n\u001b[1;32m     15\u001b[0m \u001b[0;32mclass\u001b[0m \u001b[0mValidating\u001b[0m\u001b[0;34m:\u001b[0m\u001b[0;34m\u001b[0m\u001b[0;34m\u001b[0m\u001b[0m\n\u001b[1;32m     16\u001b[0m \u001b[0;34m\u001b[0m\u001b[0m\n\u001b[0;32m---> 17\u001b[0;31m     \u001b[0;32mdef\u001b[0m \u001b[0m_validate\u001b[0m\u001b[0;34m(\u001b[0m\u001b[0mself\u001b[0m\u001b[0;34m,\u001b[0m \u001b[0mob\u001b[0m\u001b[0;34m,\u001b[0m \u001b[0mstop_prepared\u001b[0m\u001b[0;34m=\u001b[0m\u001b[0;32mFalse\u001b[0m\u001b[0;34m)\u001b[0m\u001b[0;34m:\u001b[0m\u001b[0;34m\u001b[0m\u001b[0;34m\u001b[0m\u001b[0m\n\u001b[0m\u001b[1;32m     18\u001b[0m         \u001b[0;32mif\u001b[0m \u001b[0mob\u001b[0m \u001b[0;32mis\u001b[0m \u001b[0;32mNone\u001b[0m \u001b[0;32mor\u001b[0m \u001b[0mob\u001b[0m\u001b[0;34m.\u001b[0m\u001b[0m_geom\u001b[0m \u001b[0;32mis\u001b[0m \u001b[0;32mNone\u001b[0m\u001b[0;34m:\u001b[0m\u001b[0;34m\u001b[0m\u001b[0;34m\u001b[0m\u001b[0m\n\u001b[1;32m     19\u001b[0m             \u001b[0;32mraise\u001b[0m \u001b[0mInvalidGeometryError\u001b[0m\u001b[0;34m(\u001b[0m\u001b[0;34m\"Null geometry supports no operations\"\u001b[0m\u001b[0;34m)\u001b[0m\u001b[0;34m\u001b[0m\u001b[0;34m\u001b[0m\u001b[0m\n",
      "\u001b[0;31mKeyboardInterrupt\u001b[0m: "
     ]
    }
   ],
   "source": [
    "import json\n",
    "from math import pi, tan\n",
    "import numpy as np\n",
    "import folium\n",
    "from shapely.geometry import Point\n",
    "from shapely.geometry.polygon import Polygon\n",
    "from shortest_path_calc import *\n",
    "\n",
    "#Flight height in m\n",
    "flight_height = 60 #ATH þessi verður input\n",
    "\n",
    "#Sensor width in inches\n",
    "sensor_width = 1/2.4\n",
    "\n",
    "#Converting sensor with to mm\n",
    "sensor_width *= 25.4\n",
    "\n",
    "#Focal length in mm\n",
    "focal_length = 24 # ATH þurfum að finna þessa tölu betur\n",
    "\n",
    "#Angle of view in degrees\n",
    "angle_of_view = 2*np.arctan(sensor_width / (2*focal_length)) * (180/pi)\n",
    "\n",
    "#Field of view in m\n",
    "field_of_view = abs(2*(tan(angle_of_view/2)*flight_height))\n",
    "\n",
    "field_of_view=calc_field_of_view(flight_height=1.)\n",
    "\n",
    "print(\"field of view: \", field_of_view)\n",
    "\n",
    "#f = open('data.json')\n",
    "f = open('test_data_lyngby.json')\n",
    "data = json.load(f)\n",
    "x = []\n",
    "y = []\n",
    "\n",
    "\n",
    "for d in data:\n",
    "    x.append(d['x'])\n",
    "    y.append(d['y'])\n",
    "\n",
    "\n",
    "max_x = max(x)\n",
    "min_x = min(x)\n",
    "max_y = max(y)\n",
    "min_y = min(y)\n",
    "\n",
    "x_cur = min_x\n",
    "y_cur = min_y\n",
    "\n",
    "grid_coordinates = []\n",
    "\n",
    "\n",
    "\n",
    "\n",
    "new_tuple = [(x[idx],y[idx]) for idx in range(len(x))]\n",
    "polygon = Polygon(new_tuple)\n",
    "first = True\n",
    "while(x_cur <= max_x):\n",
    "    y_cur = min_y\n",
    "    while(y_cur <= max_y):\n",
    "        point2 = Point(x_cur ,y_cur)\n",
    "        if polygon.contains(point2):\n",
    "            grid_coordinates.append({\"x\":x_cur,\"y\":y_cur})\n",
    "        y_cur += field_of_view\n",
    "    x_cur += field_of_view\n",
    "\n",
    "map = folium.Map(location=[55.78335044630297,12.494188681035387], zoom_start=100)\n",
    "#map = folium.Map(location=[55.64950876519028,12.570372924804731], zoom_start=15)\n",
    "for point in grid_coordinates:\n",
    "    #if first:\n",
    "        #first = False\n",
    "        #folium.CircleMarker([point[\"x\"], point[\"y\"]], radius=1,color='blue').add_to(map)\n",
    "    #else:\n",
    "    folium.CircleMarker([point[\"x\"], point[\"y\"]], radius=1,color='red').add_to(map)\n",
    "\n",
    "map\n",
    "\n",
    "\n",
    "\n",
    "\n"
   ]
  },
  {
   "cell_type": "code",
   "execution_count": 2,
   "metadata": {},
   "outputs": [
    {
     "name": "stdout",
     "output_type": "stream",
     "text": [
      "3.0312476483796802e-05\n"
     ]
    }
   ],
   "source": [
    "grid_coordinates\n",
    "\n",
    "dist = np.sqrt(2*(0.8*(field_of_view/111139)**2))\n",
    "print(dist)"
   ]
  },
  {
   "cell_type": "code",
   "execution_count": null,
   "metadata": {},
   "outputs": [],
   "source": [
    "# Python program for Dijkstra's single\n",
    "# source shortest path algorithm. The program is\n",
    "# for adjacency matrix representation of the graph\n",
    "class Graph():\n",
    " \n",
    "    def __init__(self, vertices):\n",
    "        self.V = vertices\n",
    "        self.graph = [[0 for column in range(vertices)]\n",
    "                      for row in range(vertices)]\n",
    "        print('GRAPH init: ',self.graph)\n",
    "        print('V init: ',self.V)\n",
    " \n",
    "    def printSolution(self, dist):\n",
    "        print('GRAPH print: ',self.graph)\n",
    "        print(\"Vertex \\t Distance from Source\")\n",
    "        for node in range(self.V):\n",
    "            print(node, \"\\t\\t\", dist[node])\n",
    " \n",
    "    # A utility function to find the vertex with\n",
    "    # minimum distance value, from the set of vertices\n",
    "    # not yet included in shortest path tree\n",
    "    def minDistance(self, dist, sptSet):\n",
    " \n",
    "        # Initialize minimum distance for next node\n",
    "        min = 1e7\n",
    " \n",
    "        # Search not nearest vertex not in the\n",
    "        # shortest path tree\n",
    "        for v in range(self.V):\n",
    "            if dist[v] < min and sptSet[v] == False:\n",
    "                min = dist[v]\n",
    "                min_index = v\n",
    " \n",
    "        return min_index\n",
    " \n",
    "    # Function that implements Dijkstra's single source\n",
    "    # shortest path algorithm for a graph represented\n",
    "    # using adjacency matrix representation\n",
    "    def dijkstra(self, src):\n",
    " \n",
    "        dist = [1e7] * self.V\n",
    "        dist[src] = 0\n",
    "        sptSet = [False] * self.V\n",
    " \n",
    "        for cout in range(self.V):\n",
    " \n",
    "            # Pick the minimum distance vertex from\n",
    "            # the set of vertices not yet processed.\n",
    "            # u is always equal to src in first iteration\n",
    "            u = self.minDistance(dist, sptSet)\n",
    " \n",
    "            # Put the minimum distance vertex in the\n",
    "            # shortest path tree\n",
    "            sptSet[u] = True\n",
    " \n",
    "            # Update dist value of the adjacent vertices\n",
    "            # of the picked vertex only if the current\n",
    "            # distance is greater than new distance and\n",
    "            # the vertex in not in the shortest path tree\n",
    "            for v in range(self.V):\n",
    "                if (self.graph[u][v] > 0 and\n",
    "                   sptSet[v] == False and\n",
    "                   dist[v] > dist[u] + self.graph[u][v]):\n",
    "                    dist[v] = dist[u] + self.graph[u][v]\n",
    " \n",
    "        self.printSolution(dist)\n",
    " \n"
   ]
  },
  {
   "cell_type": "code",
   "execution_count": null,
   "metadata": {},
   "outputs": [],
   "source": [
    "import networkx as nx\n",
    "G = nx.Graph()\n",
    "\n",
    "for idx, coordinate in enumerate(grid_coordinates):\n",
    "    G.add_node(idx, is_full=0, coordinate=coordinate)\n",
    "    \n",
    "max_dist = np.sqrt(2*(0.8*(field_of_view/111139)**2))\n",
    "G2 = G.copy()\n",
    "for node in G:\n",
    "    G2.remove_node(node)\n",
    "    for node2 in G2:\n",
    "        x_dist = abs(G.nodes[node]['coordinate']['x'] - G2.nodes[node2]['coordinate']['x'])\n",
    "        y_dist = abs(G.nodes[node]['coordinate']['y'] - G2.nodes[node2]['coordinate']['y'])\n",
    "        if (x_dist <= max_dist and y_dist <= max_dist):\n",
    "            G.add_edge(node, node2, weight = np.sqrt(x_dist**2 + y_dist**2))\n",
    "            #G.add_edge(node, node2)"
   ]
  },
  {
   "cell_type": "code",
   "execution_count": null,
   "metadata": {},
   "outputs": [],
   "source": [
    "import networkx.algorithms.approximation as nx_app\n",
    "\n",
    "path = nx_app.traveling_salesman_problem(G, cycle=False)"
   ]
  },
  {
   "cell_type": "code",
   "execution_count": null,
   "metadata": {},
   "outputs": [],
   "source": [
    "list_of_coordinates = []\n",
    "for node in path:\n",
    "    list_of_coordinates.append(G.nodes[node]['coordinate'])"
   ]
  },
  {
   "cell_type": "code",
   "execution_count": null,
   "metadata": {},
   "outputs": [],
   "source": [
    "list_of_coordinates"
   ]
  },
  {
   "cell_type": "code",
   "execution_count": null,
   "metadata": {},
   "outputs": [],
   "source": [
    "from folium.features import DivIcon\n",
    "\n",
    "map = folium.Map(location=[55.647, 12.572], zoom_start=15)\n",
    "for point in G.nodes:\n",
    "    folium.CircleMarker([G.nodes[point]['coordinate'][\"x\"], G.nodes[point]['coordinate'][\"y\"]], radius=1,color='red').add_to(map)\n",
    "    \n",
    "    folium.map.Marker([G.nodes[point]['coordinate'][\"x\"], G.nodes[point]['coordinate'][\"y\"]],\n",
    "                     icon=DivIcon(\n",
    "                          icon_size=(30,30),\n",
    "                          icon_anchor=(5,14),\n",
    "                          html=f'<div style=\"font-size: 10pt\">%s</div>' % str(point),\n",
    "                      )\n",
    "                     \n",
    "                     ).add_to(map)\n",
    "\n",
    "map"
   ]
  },
  {
   "cell_type": "code",
   "execution_count": null,
   "metadata": {},
   "outputs": [],
   "source": []
  },
  {
   "cell_type": "code",
   "execution_count": null,
   "metadata": {},
   "outputs": [],
   "source": []
  },
  {
   "cell_type": "code",
   "execution_count": null,
   "metadata": {},
   "outputs": [],
   "source": []
  }
 ],
 "metadata": {
  "kernelspec": {
   "display_name": "Python 3",
   "language": "python",
   "name": "python3"
  },
  "vscode": {
   "interpreter": {
    "hash": "91d1bab3738a01ec6d5b5cecc421630225ac59e14a5687e5d3098eee57868648"
   }
  }
 },
 "nbformat": 4,
 "nbformat_minor": 2
}
